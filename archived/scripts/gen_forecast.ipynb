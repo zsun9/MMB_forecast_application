{
 "cells": [
  {
   "cell_type": "markdown",
   "metadata": {},
   "source": [
    "*Please install the **Matlab engine** first before importing the 'matlab.engine' library!*\n",
    "\n",
    "*Quick guide:*\n",
    "- start Matlab as administrator (to do this you might need to right click Matlab and choose \"run as administrator\")\n",
    "- copy the following two lines to Matlab and run:\n",
    "\n",
    "cd (fullfile(matlabroot,'extern','engines','python'))\n",
    "\n",
    "system('python setup.py install')\n",
    "\n",
    "*Check out more info [here](https://www.mathworks.com/help/matlab/matlab_external/install-the-matlab-engine-for-python.html)*"
   ]
  },
  {
   "cell_type": "code",
   "execution_count": 1,
   "metadata": {},
   "outputs": [],
   "source": [
    "import pathlib, shutil, os, re, time, matlab.engine\n",
    "import numpy as np\n",
    "import pandas as pd"
   ]
  },
  {
   "cell_type": "code",
   "execution_count": 2,
   "metadata": {},
   "outputs": [],
   "source": [
    "# user specified parameters\n",
    "\n",
    "userParams = {\n",
    "    'models': ['WW11'],\n",
    "    'scenarios': ['s1', ], # 's3'\n",
    "    'vintageDates': ['2001-02-14', ], # '2001-05-12', '2001-08-15', '2001-11-14', '2020-02-11', '2020-05-12',\n",
    "    # 'engineNumbers': 1,\n",
    "    # 'splitTaskBy': 'scenarios',\n",
    "    'rootFolder': 'C://Users//dev//Documents//GitHub//MMB_forecast_application',\n",
    "}\n",
    "\n",
    "# assert 1 <= dictP['engineNumbers'] <= len(eval(dictP['splitTaskBy']))"
   ]
  },
  {
   "cell_type": "markdown",
   "metadata": {},
   "source": [
    "mode_compute algorithms\n",
    "- 4 Sims' csminwel\n",
    "- 7 fminsearch\n",
    "- 1 fmincon\n",
    "- 3 fminunc\n",
    "- 5 Marco Ratto newrat\n",
    "- 6 Monte-Carlo based simulation"
   ]
  },
  {
   "cell_type": "code",
   "execution_count": 3,
   "metadata": {},
   "outputs": [],
   "source": [
    "# hyper-parameters\n",
    "\n",
    "hyperParams = {\n",
    "    'chainLength': int(1e4),\n",
    "    'subDraws': int(1e4/4),\n",
    "    'forecastHorizon': 100,\n",
    "    'chainNum': 1,\n",
    "    'burnIn': 0.3,\n",
    "    'scalingFactor': 0.3,\n",
    "    'presample': 4,\n",
    "    'mode_compute_order': [4, 4, 7, 7, 1, 1, 3, 3, 5, 5, 6],\n",
    "    'nobs': 100,\n",
    "}\n",
    "\n",
    "hyperParams['sampleSize'] = hyperParams['presample'] + hyperParams['nobs']"
   ]
  },
  {
   "cell_type": "code",
   "execution_count": 4,
   "metadata": {},
   "outputs": [],
   "source": [
    "paths = {'root': pathlib.Path(userParams['rootFolder']),}\n",
    "paths.update({\n",
    "    # 'data': pathlib.Path(paths['root'] / 'data' / 'vintage_data'),\n",
    "    'models': pathlib.Path(paths['root'] / 'models'),\n",
    "    'estimations': pathlib.Path(paths['root'] / 'estimations'),\n",
    "    'scripts': pathlib.Path(paths['root'] / 'scripts')\n",
    "})\n",
    "\n",
    "assert np.prod([p.exists() for p in paths.values()])\n",
    "\n",
    "os.chdir(paths['scripts'])\n",
    "import generate_vintage, sample_ends_at_vintagedate"
   ]
  },
  {
   "cell_type": "code",
   "execution_count": 39,
   "metadata": {},
   "outputs": [],
   "source": [
    "eng = matlab.engine.start_matlab('-desktop -nosplash')\n",
    "eng.eval(f\"cd('{str(paths['root'])}')\", nargout=0)"
   ]
  },
  {
   "cell_type": "code",
   "execution_count": 49,
   "metadata": {},
   "outputs": [
    {
     "output_type": "stream",
     "name": "stdout",
     "text": "\nWarning: Folder WW11_20010214_s1_100obs alreeady exists! Enter Y to delete it and start a new estimation. Enter C to continue without deleting anything. Enter N to stop estimation.\nVintage date < End date of last observation quarter, so Last observation date = Vintage date.\nGenerated data with different scenarios.\nMode file exists, will skip ML estimation ... ... succeeded.\n"
    }
   ],
   "source": [
    "for model in userParams['models']:\n",
    "    pathModel = paths['models'] / model\n",
    "\n",
    "    if pathModel.exists():\n",
    "\n",
    "        modFile = model+'.mod'\n",
    "\n",
    "        for vintageDate in userParams['vintageDates']:\n",
    "            for scenario in userParams['scenarios']:\n",
    "                print()\n",
    "                \n",
    "                # create folder and copy model files\n",
    "                nameWorking = f\"{model}_{vintageDate.replace('-','')}_{scenario}_{hyperParams['nobs'] - (scenario == 's1')}obs\"\n",
    "                pathWorking = paths['estimations'] / nameWorking\n",
    "                if pathWorking.exists():\n",
    "                    print(f'Warning: Folder {nameWorking} alreeady exists! Enter Y to delete it and start a new estimation. Enter C to continue without deleting anything. Enter N to stop estimation.')\n",
    "                    inputValue = ''\n",
    "                    while inputValue not in {'y', 'n', 'c'}:\n",
    "                        inputValue = input()\n",
    "                    if inputValue == 'y':\n",
    "                        shutil.rmtree(pathWorking)\n",
    "                        shutil.copytree(pathModel, pathWorking)\n",
    "                    elif inputValue == 'c':\n",
    "                        for file in pathModel.glob('*.*'):\n",
    "                            shutil.copy(file, pathWorking)\n",
    "                    else:\n",
    "                        continue\n",
    "\n",
    "                # retreive observed variables\n",
    "                os.chdir(pathWorking)\n",
    "                with open(modFile, 'r') as file:\n",
    "                    script = file.read()\n",
    "                lineVarobs = re.search(pattern='varobs[ _a-z0-9\\n]{1,};', string=script)\n",
    "                if lineVarobs == None:\n",
    "                    print(f'No varobs found in {modfile}')\n",
    "                    continue\n",
    "                else:\n",
    "                    varobs = lineVarobs.group(0).replace('varobs', ' ').replace('\\n', ' ').replace(';', ' ')\n",
    "                    varobs = re.sub('[ ]{1,}', ' ', varobs)\n",
    "                    varobs = [inst for inst in varobs.split(' ') if len(inst)>0]\n",
    "\n",
    "                # create and copy data\n",
    "                os.chdir(paths['scripts'])\n",
    "                quarterStart, quarterEnd = sample_ends_at_vintagedate.main(vintageDate=vintageDate, sampleSize=hyperParams['sampleSize'])\n",
    "                generate_vintage.main(\n",
    "                    vintageDate=vintageDate, quarterStart=str(quarterStart), quarterEnd=str(quarterEnd), \n",
    "                    observed=varobs, showRawTransform=False, pathExcel=pathWorking\n",
    "                    )\n",
    "\n",
    "                # write estimation command\n",
    "                os.chdir(pathWorking)\n",
    "                eng.eval(f\"cd('{str(pathWorking)}')\", nargout=0)\n",
    "\n",
    "                xlsRange = chr(65+len(varobs)) + str(hyperParams['sampleSize'] + (scenario != 's1'))\n",
    "                estimationCommand = \\\n",
    "                f\"\\n\\nestimation(datafile=data_{vintageDate.replace('-','')}, xls_sheet={scenario}, xls_range=B1:{xlsRange}, presample={hyperParams['presample']}, \\\n",
    "                mh_replic={hyperParams['chainLength']}, mh_nblocks={hyperParams['chainNum']}, mh_drop={hyperParams['burnIn']}, mh_jscale={hyperParams['scalingFactor']}, \\\n",
    "                sub_draws={hyperParams['subDraws']}, forecast={hyperParams['forecastHorizon']}, \\\n",
    "                order=1, prefilter=0, nograph, smoother, silent_optimizer, \\\n",
    "                mode_compute={hyperParams['mode_compute_order'][0]}) gdp_rgd_obs;\"\n",
    "                script += estimationCommand\n",
    "\n",
    "                # check whether mode compute exists\n",
    "                modeFile = pathWorking / (model+'_mode.mat')\n",
    "                if modeFile.exists():\n",
    "\n",
    "                    script = script.replace(f\"mode_compute={hyperParams['mode_compute_order'][0]})\", f'mode_compute=0, mode_file={model}_mode)')\n",
    "                    with open(modFile, 'w') as file:\n",
    "                        file.write(script)\n",
    "\n",
    "                    print('Mode file exists, will skip ML estimation ...', end=' ')\n",
    "                    eng.dynare(modFile, nargout=0)\n",
    "                    print(' ... succeeded.')\n",
    "                    break\n",
    "\n",
    "                # loop through all mode_compute rountines\n",
    "                for i, mode_compute in enumerate(hyperParams['mode_compute_order']):\n",
    "                    if i > 0:\n",
    "                        script = script.replace(f\"mode_compute={hyperParams['mode_compute_order'][i-1]}\", f'mode_compute={mode_compute}')\n",
    "\n",
    "                    with open(modFile, 'w') as file:\n",
    "                        file.write(script)\n",
    "\n",
    "                    try:\n",
    "                        print(f'Now computing mode using algorithm {mode_compute} ...', end=' ')\n",
    "                        eng.dynare(modFile, nargout=0)\n",
    "                        print(' ... succeeded.', end=' ')\n",
    "                        time.sleep(10)\n",
    "                        eng.save('workspace', nargout=0)\n",
    "                        print(' Variables saved.', end=' ')\n",
    "                        time.sleep(10)\n",
    "                        shutil.rmtree(pathWorking / model)\n",
    "                        print(' Auxillary files deleted.')\n",
    "                        break\n",
    "                    except:\n",
    "                        print(' ... failed. Try next.')\n",
    "\n",
    "    else:\n",
    "        print(f'Model {model} does not exist, will be skipped.')"
   ]
  },
  {
   "cell_type": "code",
   "execution_count": 112,
   "metadata": {},
   "outputs": [],
   "source": [
    "np.array(eng.workspace['oo_']['MeanForecast']['Mean']['gdp_rgd_obs'])"
   ]
  },
  {
   "cell_type": "code",
   "execution_count": 21,
   "metadata": {},
   "outputs": [],
   "source": [
    "# eng.dynare(\"WW11.mod\", nargout=0)\n",
    "# eng.eval(\"options_.datafile = 'data.csv'\", nargout=0)\n",
    "# eng.eval(\"options_.mh_replic = 5000\", nargout=0)\n",
    "# eng.eval(\"options_.forecast = 5\", nargout=0)\n",
    "# eng.eval(\"options_.order = 1\", nargout=0)\n",
    "# eng.eval(\"options_.nograph = 1\", nargout=0)\n",
    "# eng.dynare_estimation(\"\", nargout=0)"
   ]
  },
  {
   "cell_type": "code",
   "execution_count": null,
   "metadata": {},
   "outputs": [],
   "source": []
  }
 ],
 "metadata": {
  "language_info": {
   "codemirror_mode": {
    "name": "ipython",
    "version": 3
   },
   "file_extension": ".py",
   "mimetype": "text/x-python",
   "name": "python",
   "nbconvert_exporter": "python",
   "pygments_lexer": "ipython3",
   "version": "3.7.7-final"
  },
  "orig_nbformat": 2,
  "kernelspec": {
   "name": "python37764bitba3d8e8fc21c4b4c8d5f629dcc40dfe0",
   "display_name": "Python 3.7.7 64-bit"
  }
 },
 "nbformat": 4,
 "nbformat_minor": 2
}