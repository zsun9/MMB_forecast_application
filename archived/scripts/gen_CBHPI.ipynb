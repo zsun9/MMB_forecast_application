{
 "cells": [
  {
   "cell_type": "code",
   "execution_count": 1,
   "metadata": {},
   "outputs": [],
   "source": [
    "import pandas as pd\n",
    "import pathlib, requests, re\n",
    "import matplotlib.pyplot as plt\n",
    "import statsmodels.api as sm\n",
    "import numpy as np\n",
    "import calendar"
   ]
  },
  {
   "cell_type": "code",
   "execution_count": 3,
   "metadata": {},
   "outputs": [],
   "source": [
    "pathCBHPI = pathlib.Path('../data/raw/others/CBHPI.xlsx')\n",
    "assert pathCBHPI.exists()"
   ]
  },
  {
   "cell_type": "code",
   "execution_count": 5,
   "metadata": {},
   "outputs": [],
   "source": [
    "seriesCBHPI = pd.read_excel(pathCBHPI, sheet_name='series', encoding='utf-8', index_col=0)\n",
    "seriesCBHPI['quarter'] = seriesCBHPI.index.to_period('Q')"
   ]
  },
  {
   "cell_type": "code",
   "execution_count": 77,
   "metadata": {},
   "outputs": [],
   "source": [
    "seriesReleaseDate = pd.read_excel(pathCBHPI, sheet_name='release dates', encoding='utf-8', index_col=0)\n",
    "seriesReleaseDate.rename(columns={'New Residential Sales Press Release \\n10:00 am': 'vintage'}, inplace=True)\n",
    "seriesReleaseDate = seriesReleaseDate[seriesReleaseDate.index.month.map(lambda x: x in {3, 6, 9, 12})]\n",
    "seriesReleaseDate['quarter'] = seriesReleaseDate.index.to_period('Q')"
   ]
  },
  {
   "cell_type": "code",
   "execution_count": 94,
   "metadata": {},
   "outputs": [],
   "source": [
    "series = pd.merge(seriesCBHPI, seriesReleaseDate[['vintage', 'quarter']], left_on='quarter', right_on='quarter', how='left')\n",
    "df = pd.DataFrame(index=series['quarter'])"
   ]
  },
  {
   "cell_type": "code",
   "execution_count": 95,
   "metadata": {},
   "outputs": [],
   "source": [
    "for index, row in series.iterrows():\n",
    "    if not pd.isnull(row['vintage']):\n",
    "        col = 'CBHPI_' + row['vintage'].strftime('%Y%m%d')\n",
    "        values = []\n",
    "        for value, quarter in zip(series['CBHPI'], series['quarter']):\n",
    "            if quarter <= row['quarter']:\n",
    "                values.append(value)\n",
    "            else:\n",
    "                values.append(float('nan'))\n",
    "        df[col] = values"
   ]
  },
  {
   "cell_type": "code",
   "execution_count": 100,
   "metadata": {},
   "outputs": [],
   "source": [
    "df.index = df.index.map(lambda x: x.start_time.strftime('%m/%d/%Y'))\n"
   ]
  },
  {
   "cell_type": "code",
   "execution_count": 101,
   "metadata": {},
   "outputs": [],
   "source": [
    "pathCBHPI2 = pathlib.Path('../data/raw/others/CBHPI2.xlsx')\n",
    "with pd.ExcelWriter(pathCBHPI2) as writer:\n",
    "    df.to_excel(writer, sheet_name='dataframe')"
   ]
  },
  {
   "cell_type": "code",
   "execution_count": null,
   "metadata": {},
   "outputs": [],
   "source": []
  }
 ],
 "metadata": {
  "language_info": {
   "codemirror_mode": {
    "name": "ipython",
    "version": 3
   },
   "file_extension": ".py",
   "mimetype": "text/x-python",
   "name": "python",
   "nbconvert_exporter": "python",
   "pygments_lexer": "ipython3",
   "version": "3.7.7-final"
  },
  "orig_nbformat": 2,
  "kernelspec": {
   "name": "python37764bitba3d8e8fc21c4b4c8d5f629dcc40dfe0",
   "display_name": "Python 3.7.7 64-bit"
  }
 },
 "nbformat": 4,
 "nbformat_minor": 2
}