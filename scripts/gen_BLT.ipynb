{
 "cells": [
  {
   "cell_type": "code",
   "execution_count": 2,
   "metadata": {},
   "outputs": [],
   "source": [
    "import pandas as pd\n",
    "from bs4 import BeautifulSoup\n",
    "import pathlib, requests, re"
   ]
  },
  {
   "cell_type": "code",
   "execution_count": 3,
   "metadata": {},
   "outputs": [],
   "source": [
    "pathBLT = pathlib.Path('../data/raw/others/BLT.xlsx')\n",
    "assert pathBLT.exists()"
   ]
  },
  {
   "cell_type": "code",
   "execution_count": 4,
   "metadata": {
    "tags": []
   },
   "outputs": [
    {
     "output_type": "stream",
     "name": "stdout",
     "text": "year 1997: 4 reports\nyear 1998: 4 reports\nyear 1999: 4 reports\nyear 2000: 4 reports\nyear 2001: 4 reports\nyear 2002: 4 reports\nyear 2003: 4 reports\nyear 2004: 4 reports\nyear 2005: 4 reports\nyear 2006: 4 reports\nyear 2007: 4 reports\nyear 2008: 4 reports\nyear 2009: 4 reports\nyear 2010: 4 reports\nyear 2011: 4 reports\nyear 2012: 4 reports\nyear 2013: 4 reports\nyear 2014: 4 reports\nyear 2015: 4 reports\nyear 2016: 4 reports\nyear 2017: 4 reports\nyear 2018: 4 reports\nyear 2019: 4 reports\nyear 2020: 3 reports\n"
    }
   ],
   "source": [
    "dictBLT = dict()\n",
    "\n",
    "for year in range(1997, pd.datetime.today().year+1):\n",
    "    foundInYear = 0\n",
    "    for month in range(1, 12+1):\n",
    "        if (year, month) not in {(1998, 11), (2001, 3)}:\n",
    "            \n",
    "            yearmonth = str(year) + str(month).zfill(2)\n",
    "            if int(yearmonth) < 201703:\n",
    "                url = f'https://www.federalreserve.gov/boarddocs/SnLoanSurvey/{yearmonth}/default.htm'\n",
    "            elif int(yearmonth) < 201801:\n",
    "                url = f'https://www.federalreserve.gov/data/sloos/{yearmonth}/default.htm'\n",
    "            else:\n",
    "                url = f'https://www.federalreserve.gov/data/sloos/sloos-{yearmonth}.htm'\n",
    "\n",
    "            page = requests.get(url)\n",
    "            if page.status_code == 200:\n",
    "                foundInYear +=1\n",
    "                dictBLT[(year, month)] = page.content\n",
    "\n",
    "    print(f'year {year}: {foundInYear} reports')"
   ]
  },
  {
   "cell_type": "code",
   "execution_count": 84,
   "metadata": {},
   "outputs": [
    {
     "output_type": "stream",
     "name": "stdout",
     "text": "last update: february 10, 1997\nlast update: may 23, 1997\nlast update: august 22, 1997\nlast update: november 17, 1997\nlast update: february 9, 1998\nlast update: may 26, 1998\nlast update: august 21, 1998\nlast update: october 1, 1998\nlast update: february 8, 1999\nlast update: august 27, 1999\nlast update: august 30, 1999\nlast update: november 22, 1999\nlast update: february 8, 2000\nlast update: may 19, 2000\nlast update: august 25, 2000\nlast update: november 17, 2000\nlast update: february 5, 2001\nlast update: may 17, 2001\nlast update: august 24, 2001\nlast update: november 13, 2001\nlast update: february 4, 2002\nlast update: may 10, 2002\nlast update: august 19, 2002\nlast update: november 12, 2002\nlast update: january 31, 2003\nlast update: may 9, 2003\nlast update: august 15, 2003\nlast update: november 3, 2003\nlast update: february 3, 2004\nlast update: may 7, 2004\nlast update: august 16, 2004\nlast update: november 15, 2004\nlast update: february 7, 2005\nlast update: august 22, 2005\nlast update: august 22, 2005\nlast update: november 7, 2005\nlast update: february 8, 2006\nlast update: may 15, 2006\nlast update: august 14, 2006\nlast update: october 30, 2006\nlast update: february 5, 2007\nlast update: may 17, 2007\nlast update: august 13, 2007\nlast update: november 5, 2007\nlast update: february 4, 2008\nlast update: may 5, 2008\nlast update: august 11, 2008\nlast update: november 3, 2008\nlast update: february 2, 2009\nlast update: may 4, 2009\nlast update: august 17, 2009\nlast update: november 9, 2009\nlast update: february 1, 2010\nlast update: may 3, 2010\nlast update: august 16, 2010\nlast update: november 8, 2010\nlast update: january 31, 2011\nlast update: may 2, 2011\nlast update: august 15, 2011\nlast update: november 7, 2011\nlast update: january 30, 2012\nlast update: april 30, 2012\nlast update: august 6, 2012\nlast update: october 31, 2012\nlast update: february 4, 2013\nlast update: may 6, 2013\nlast update: august 5, 2013\nlast update: november 4, 2013\nlast update: february 3, 2014\nlast update: may 5, 2014\nlast update: august 4, 2014\nlast update: november 3, 2014\nlast update: february 2, 2015\nlast update: may 4, 2015\nlast update: august 3, 2015\nlast update: november 2, 2015\nlast update: february 1, 2016\nlast update: may 2, 2016\nlast update: august 1, 2016\nlast update: november 7, 2016\nlast update: february 6, 2017\nlast update: may 8, 2017\nlast update: july 31, 2017\nlast update: november 6, 2017\nlast update: february 05, 2018\nlast update: june 06, 2019\nlast update: august 06, 2018\nlast update: november 13, 2018\nlast update: february 04, 2019\nlast update: may 06, 2019\nlast update: august 05, 2019\nlast update: november 04, 2019\nlast update: february 03, 2020\nlast update: may 04, 2020\n"
    }
   ],
   "source": [
    "vintageDates = []\n",
    "for (year, month), value in dictBLT.items():\n",
    "\n",
    "    page = BeautifulSoup(value, 'html.parser').text.lower().replace('\\r', ' ').replace('\\n', ' ')\n",
    "    page = re.sub('( ){1,}', ' ', page)\n",
    "    match = re.search('last update: (([a-z]){1,10} ([0-9]){1,2}, ([0-9]){4})', page)\n",
    "\n",
    "    if match is None:\n",
    "        print((year, month))\n",
    "        break\n",
    "    else:\n",
    "        print(match.group(0))\n",
    "        if match.group(1) == 'august 27, 1999':\n",
    "            vintageDate = 'may 21, 1999'\n",
    "        elif match.group(1) == 'august 22, 2005' and month == 5:\n",
    "            vintageDate = 'may 9, 2005'\n",
    "        elif match.group(1) == 'august 22, 2005' and month == 8:\n",
    "            vintageDate = 'august 15, 2005'\n",
    "        elif match.group(1) == 'june 06, 2019':\n",
    "            vintageDate = 'may 08, 2018'\n",
    "        else:\n",
    "            vintageDate = match.group(1)\n",
    "\n",
    "        vintageDates.append(pd.to_datetime(vintageDate))"
   ]
  },
  {
   "cell_type": "code",
   "execution_count": 86,
   "metadata": {},
   "outputs": [
    {
     "output_type": "execute_result",
     "data": {
      "text/plain": "                  BLT\n1994-01-01  -8.870000\n1994-04-01  -8.832500\n1994-07-01  -5.637500\n1994-10-01 -10.862500\n1995-01-01  -3.375000\n...               ...\n2019-04-01   0.748810\n2019-07-01  -1.330952\n2019-10-01   6.700000\n2020-01-01  -0.030952\n2020-04-01  35.617857\n\n[106 rows x 1 columns]",
      "text/html": "<div>\n<style scoped>\n    .dataframe tbody tr th:only-of-type {\n        vertical-align: middle;\n    }\n\n    .dataframe tbody tr th {\n        vertical-align: top;\n    }\n\n    .dataframe thead th {\n        text-align: right;\n    }\n</style>\n<table border=\"1\" class=\"dataframe\">\n  <thead>\n    <tr style=\"text-align: right;\">\n      <th></th>\n      <th>BLT</th>\n    </tr>\n  </thead>\n  <tbody>\n    <tr>\n      <th>1994-01-01</th>\n      <td>-8.870000</td>\n    </tr>\n    <tr>\n      <th>1994-04-01</th>\n      <td>-8.832500</td>\n    </tr>\n    <tr>\n      <th>1994-07-01</th>\n      <td>-5.637500</td>\n    </tr>\n    <tr>\n      <th>1994-10-01</th>\n      <td>-10.862500</td>\n    </tr>\n    <tr>\n      <th>1995-01-01</th>\n      <td>-3.375000</td>\n    </tr>\n    <tr>\n      <th>...</th>\n      <td>...</td>\n    </tr>\n    <tr>\n      <th>2019-04-01</th>\n      <td>0.748810</td>\n    </tr>\n    <tr>\n      <th>2019-07-01</th>\n      <td>-1.330952</td>\n    </tr>\n    <tr>\n      <th>2019-10-01</th>\n      <td>6.700000</td>\n    </tr>\n    <tr>\n      <th>2020-01-01</th>\n      <td>-0.030952</td>\n    </tr>\n    <tr>\n      <th>2020-04-01</th>\n      <td>35.617857</td>\n    </tr>\n  </tbody>\n</table>\n<p>106 rows × 1 columns</p>\n</div>"
     },
     "metadata": {},
     "execution_count": 86
    }
   ],
   "source": [
    "seriesBLT"
   ]
  },
  {
   "cell_type": "code",
   "execution_count": 90,
   "metadata": {},
   "outputs": [],
   "source": [
    "seriesBLT = pd.read_excel(pathBLT, sheet_name='series', encoding='utf-8', index_col=0)"
   ]
  },
  {
   "cell_type": "code",
   "execution_count": 91,
   "metadata": {},
   "outputs": [],
   "source": [
    "dictVintageDateReplace = {\n",
    "    pd.to_datetime('1999-08-27'): pd.to_datetime('1999-05-21')\n",
    "}"
   ]
  },
  {
   "cell_type": "code",
   "execution_count": 92,
   "metadata": {},
   "outputs": [],
   "source": [
    "dfBLT = pd.DataFrame(index = seriesBLT.index)\n",
    "\n",
    "for vintageDate in vintageDates:\n",
    "    column = 'BLT_'+vintageDate.strftime('%Y%m%d')\n",
    "    dfBLT[column] = seriesBLT['BLT'].values\n",
    "    for row in seriesBLT.index:\n",
    "        if row.to_period('Q') > vintageDate.to_period('Q'):\n",
    "            dfBLT.loc[row, column] = float('nan')"
   ]
  },
  {
   "cell_type": "code",
   "execution_count": 100,
   "metadata": {},
   "outputs": [],
   "source": [
    "dfBLT.index = dfBLT.index.map(lambda x: x.strftime('%m/%d/%Y').lstrip('0').replace('/0', '/'))\n",
    "with pd.ExcelWriter(pathBLT2) as writer:\n",
    "    dfBLT.to_excel(writer, sheet_name='dataframe')"
   ]
  },
  {
   "cell_type": "code",
   "execution_count": null,
   "metadata": {},
   "outputs": [],
   "source": []
  }
 ],
 "metadata": {
  "language_info": {
   "codemirror_mode": {
    "name": "ipython",
    "version": 3
   },
   "file_extension": ".py",
   "mimetype": "text/x-python",
   "name": "python",
   "nbconvert_exporter": "python",
   "pygments_lexer": "ipython3",
   "version": "3.8.5-final"
  },
  "orig_nbformat": 2,
  "kernelspec": {
   "name": "python38532bitd3ffcb4d36dc4ba682573efcd8129340",
   "display_name": "Python 3.8.5 32-bit"
  }
 },
 "nbformat": 4,
 "nbformat_minor": 2
}