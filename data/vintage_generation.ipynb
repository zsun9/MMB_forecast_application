{
 "cells": [
  {
   "cell_type": "code",
   "execution_count": 1,
   "metadata": {},
   "outputs": [],
   "source": [
    "# to do\n",
    "# consider the case when there is no vintage date appended to a variable\n",
    "# fill NaN using the values from the last vintage date"
   ]
  },
  {
   "cell_type": "code",
   "execution_count": 2,
   "metadata": {},
   "outputs": [],
   "source": [
    "vintage_date = '2009-04-01' # until the end of day\n",
    "start_quarter = '1988Q4' # inclusive\n",
    "end_quarter = '2008Q2' # inclusive\n",
    "\n",
    "fillna_from_last_vintage = False\n",
    "variables = {\n",
    "    'raw_variables': set(['CPIAUCSL']),#'GDPC1','GDPCTPI','DFF','FPI','PCE','DBAA','DGS10','COMPNFB','NETEXP','PCEDG','CE16OV','PCES','PCND','PCESVC96','GPDI','NETEXC','CLF16OV',]),\n",
    "    'raw_variables_transform': set([]),\n",
    "    'observed_variables': set(['infla_obs']),#'xgdp_q_obs','pgdp_q_obs','rff_q_obs','fpi_q_obs','pcer_q_obs','cp_q_obs','wage_obs','gdp_q_AA16_obs','i_q_AA16_obs','c_q_AA16_obs',]),\n",
    "}"
   ]
  },
  {
   "cell_type": "code",
   "execution_count": 3,
   "metadata": {},
   "outputs": [],
   "source": [
    "import pathlib, warnings\n",
    "import pandas as pd\n",
    "import numpy as np\n",
    "import datetime as datetime"
   ]
  },
  {
   "cell_type": "code",
   "execution_count": 4,
   "metadata": {},
   "outputs": [],
   "source": [
    "data_path = pathlib.Path('raw_variables')\n",
    "assert data_path.exists()"
   ]
  },
  {
   "cell_type": "code",
   "execution_count": 5,
   "metadata": {},
   "outputs": [],
   "source": [
    "vintage_date = pd.to_datetime(vintage_date)\n",
    "start_observation = pd.to_datetime(start_quarter).to_period('Q').start_time\n",
    "end_observation = pd.to_datetime(end_quarter).to_period('Q').end_time\n",
    "\n",
    "if vintage_date < end_observation:\n",
    "    warnings.warn('Your vintage date is smaller than the last observation date, so the last observation date will be the vintage date.')\n",
    "    end_observation = vintage_date"
   ]
  },
  {
   "cell_type": "code",
   "execution_count": 6,
   "metadata": {},
   "outputs": [],
   "source": [
    "description_obs = pd.read_excel('observed_variable_description.xlsx',encoding=\"ISO-8859-1\")\n",
    "description_raw = pd.read_csv('raw_variable_description.csv',encoding=\"ISO-8859-1\")"
   ]
  },
  {
   "cell_type": "markdown",
   "metadata": {},
   "source": [
    "### generate observables"
   ]
  },
  {
   "cell_type": "code",
   "execution_count": 7,
   "metadata": {},
   "outputs": [],
   "source": [
    "dict_obs_raw = dict()\n",
    "\n",
    "if len(variables['observed_variables']) > 0:\n",
    "\n",
    "    # identify corresponding raw variables and store their names in 'raw_variables_tranform'\n",
    "    set_raw_variables = {data_file.stem for data_file in data_path.glob('*.*')}\n",
    "\n",
    "    for _, row in description_obs.iterrows():\n",
    "        if row['id'] in variables['observed_variables']:\n",
    "\n",
    "            set_raw = set()\n",
    "            for raw_variable in set_raw_variables:\n",
    "                if raw_variable in row['construction']:\n",
    "\n",
    "                    set_raw.update({raw_variable})\n",
    "                    variables['raw_variables_transform'].update({raw_variable})\n",
    "            \n",
    "            dict_obs_raw[row['id']] = set_raw\n",
    "\n",
    "    # description_obs = description_obs[description_obs['id'].map(lambda x: x in variables['observed_variables'])]\n",
    "    \n",
    "    # idenfity_string = ' '.join(description_obs['construction'].values)\n",
    "    # for variable in set_raw_variables:\n",
    "    #     if variable in idenfity_string:\n",
    "    #         dict_obs_raw[]\n",
    "    #         variables['raw_variables_transform'].update({variable})"
   ]
  },
  {
   "cell_type": "code",
   "execution_count": 8,
   "metadata": {},
   "outputs": [],
   "source": [
    "def generate_raw_variables(variables):\n",
    "\n",
    "    index = -1\n",
    "\n",
    "    for variable in variables:\n",
    "\n",
    "        to_merge = False\n",
    "\n",
    "        for data_file in set(data_path.glob('*.*')):\n",
    "\n",
    "            if data_file.stem == variable:\n",
    "\n",
    "                # load dataset\n",
    "                data_set = pd.read_csv(data_file, index_col=0)\n",
    "                data_set.index = pd.to_datetime(data_set.index)\n",
    "\n",
    "                # load frequency of the variable\n",
    "                frequency = description_raw[description_raw['id']==variable]['frequency_short'].values[0]\n",
    "\n",
    "                # choose data within observation period\n",
    "                observation_dates = data_set.index.map(lambda x: start_observation <= x <= end_observation)\n",
    "\n",
    "                if len(observation_dates.values) == 0:\n",
    "                    warnings.warn(f'\\n{variable} has no value within the observation period you choose for any vintage date!\\n')\n",
    "                    break\n",
    "\n",
    "                # choose data within vintage date\n",
    "                vintage_column = ''\n",
    "\n",
    "                if frequency == 'D':\n",
    "                    vintage_column = data_set.columns.values[-1]\n",
    "                else:\n",
    "                    for column in data_set.columns.values:\n",
    "                        if int(vintage_date.strftime('%Y%m%d')) >= int(column[-8:]):\n",
    "                            vintage_column = column\n",
    "                        else:\n",
    "                            break\n",
    "\n",
    "                if vintage_column == '':\n",
    "                    warnings.warn(f'\\nFor {variable}, the vintage date you choose is out of bound!\\n')\n",
    "                    break\n",
    "\n",
    "                # combine desired observation period and vintage date\n",
    "                # for daily and monthly data, take the average over the quarter\n",
    "                if len(observation_dates.values) > 0 and vintage_column != '':\n",
    "\n",
    "                    data_set['quarter'] = data_set.index.to_period('Q').values\n",
    "                    data_set = data_set[observation_dates][[vintage_column, 'quarter']].copy()\n",
    "\n",
    "                    if np.sum(~np.isnan(data_set[vintage_column].values)) == 0:\n",
    "                        warnings.warn(f'\\n{variable} has no value in the observation period and vintage date you choose.\\n')\n",
    "                        break\n",
    "                    else:\n",
    "                        index += 1\n",
    "                        to_merge = True\n",
    "                        data_to_merge = data_set.groupby('quarter').mean()\n",
    "\n",
    "                break\n",
    "\n",
    "        if to_merge == True:\n",
    "\n",
    "            if index == 0:\n",
    "                data_output = data_to_merge.copy()\n",
    "            else:\n",
    "                data_output = pd.merge(data_output, data_to_merge, how='outer', left_index=True, right_index=True, sort=True)\n",
    "\n",
    "    return data_output"
   ]
  },
  {
   "cell_type": "code",
   "execution_count": 9,
   "metadata": {},
   "outputs": [],
   "source": [
    "df_raw = generate_raw_variables(variables['raw_variables'])\n",
    "df_for_obs = generate_raw_variables(variables['raw_variables_transform'])"
   ]
  },
  {
   "cell_type": "code",
   "execution_count": 10,
   "metadata": {},
   "outputs": [],
   "source": [
    "dict_raw = dict()\n",
    "for column in df_for_obs.columns.values:\n",
    "    if column[-8:].isdigit():\n",
    "        dict_raw[column[:-9]] = column\n",
    "    else:\n",
    "        dict_raw[column] = column"
   ]
  },
  {
   "cell_type": "code",
   "execution_count": 11,
   "metadata": {},
   "outputs": [],
   "source": [
    "df = df_raw.copy()\n",
    "assert df_raw.shape[0] == df_for_obs.shape[0]"
   ]
  },
  {
   "cell_type": "code",
   "execution_count": 12,
   "metadata": {},
   "outputs": [],
   "source": [
    "for observable in variables['observed_variables']:\n",
    "\n",
    "    vintage_date_observable = 99999999\n",
    "    for raw_variable in dict_obs_raw[observable]:\n",
    "        vintage_date_observable = min(vintage_date_observable, int(dict_raw[raw_variable][-8:]))\n",
    "    column_name = observable + '_' + str(vintage_date_observable)\n",
    "\n",
    "    if observable == 'xgdp_q_obs':\n",
    "        # ΔLN(GDPC1)*100\n",
    "        df.loc[:, column_name] = np.log(df_for_obs[dict_raw['GDPC1']].values/df_for_obs[dict_raw['GDPC1']].shift().values)*100\n",
    "\n",
    "    elif observable == 'pgdp_q_obs':\n",
    "        # ΔLN(GDPCTPI)*100\n",
    "        df.loc[:, column_name] = np.log(df_for_obs[dict_raw['GDPCTPI']].values/df_for_obs[dict_raw['GDPCTPI']].shift().values)*100\n",
    "\n",
    "    elif observable == 'rff_q_obs':\n",
    "        # DFF/4\n",
    "        df.loc[:, column_name] = df_for_obs[dict_raw['DFF']]/4\n",
    "\n",
    "    elif observable == 'fpi_q_obs':\n",
    "        # ΔLN(FPI/GDPCTPI)*100\n",
    "        df.loc[:, column_name] = np.log((df_for_obs[dict_raw['FPI']].values/df_for_obs[dict_raw['GDPCTPI']].values)/(df_for_obs[dict_raw['FPI']].shift().values/df_for_obs[dict_raw['GDPCTPI']].shift().values))*100\n",
    "\n",
    "    elif observable == 'pcer_q_obs':\n",
    "        # ΔLN(PCE/GDPCTPI)*100\n",
    "        df.loc[:, column_name] = np.log((df_for_obs[dict_raw['PCE']].values/df_for_obs[dict_raw['GDPCTPI']].values)/(df_for_obs[dict_raw['PCE']].shift().values/df_for_obs[dict_raw['GDPCTPI']].shift().values))*100\n",
    "\n",
    "    elif observable == 'cp_q_obs':\n",
    "        # (DBAA-DGS10)/4\n",
    "        df.loc[:, column_name] = (df_for_obs[dict_raw['DBAA']] - df_for_obs[dict_raw['DGS10']])/4\n",
    "\n",
    "    elif observable == 'wage_obs':\n",
    "        # ΔLN(COMPNFB/GDPCTPI)*100\n",
    "        df.loc[:, column_name] = np.log((df_for_obs[dict_raw['COMPNFB']].values/df_for_obs[dict_raw['GDPCTPI']].values)/(df_for_obs[dict_raw['COMPNFB']].shift().values/df_for_obs[dict_raw['GDPCTPI']].shift().values))*100\n",
    "    \n",
    "    elif observable == 'gdp_q_AA16_obs':\n",
    "        # ΔLN((GDPC1-NETEXC)/CE16OV)*100\n",
    "        df.loc[:, column_name] = np.log(((df_for_obs[dict_raw['GDPC1']].values-df_for_obs[dict_raw['NETEXC']].values)/df_for_obs[dict_raw['CLF16OV']].values)/((df_for_obs[dict_raw['GDPC1']].shift().values-df_for_obs[dict_raw['NETEXC']].shift().values)/df_for_obs[dict_raw['CLF16OV']].shift().values))*100\n",
    "    \n",
    "    elif observable == 'i_q_AA16_obs':\n",
    "        # ΔLN(GPDI+PCDG)*100\n",
    "        df.loc[:, column_name] = np.log((df_for_obs[dict_raw['GPDI']].values+df_for_obs[dict_raw['PCDG']].values)/(df_for_obs[dict_raw['GPDI']].shift().values+df_for_obs[dict_raw['PCDG']].shift().values))*100\n",
    "    \n",
    "    elif observable == 'c_q_AA16_obs':\n",
    "        # ΔLN((PCESV+PCND))*100\n",
    "        df.loc[:, column_name] = np.log((df_for_obs[dict_raw['PCND']].values+df_for_obs[dict_raw['PCESV']].values)/(df_for_obs[dict_raw['PCND']].shift().values+df_for_obs[dict_raw['PCESV']].shift().values))*100\n",
    "\n",
    "    elif observable == 'infla_obs':\n",
    "        # ΔLN(CPIAUCSL)\n",
    "        df.loc[:, column_name] = np.log(df_for_obs[dict_raw['CPIAUCSL']].values/df_for_obs[dict_raw['CPIAUCSL']].shift().values)\n",
    "\n",
    "        \n",
    "\n",
    "    else:\n",
    "        warnings.warn(f'\\n{observable} is not exported as an osbervable.\\n')\n"
   ]
  },
  {
   "cell_type": "code",
   "execution_count": 13,
   "metadata": {},
   "outputs": [],
   "source": [
    "df.to_csv(f\"data_{vintage_date.strftime('%Y%m%d')}.csv\")"
   ]
  },
  {
   "cell_type": "code",
   "execution_count": null,
   "metadata": {},
   "outputs": [],
   "source": []
  }
 ],
 "metadata": {
  "kernelspec": {
   "display_name": "Python 3",
   "name": "python3"
  },
  "language_info": {
   "codemirror_mode": {
    "name": "ipython",
    "version": 3
   },
   "file_extension": ".py",
   "mimetype": "text/x-python",
   "name": "python",
   "nbconvert_exporter": "python",
   "pygments_lexer": "ipython3",
   "version": "3.7.6-final"
  }
 },
 "nbformat": 4,
 "nbformat_minor": 4
}