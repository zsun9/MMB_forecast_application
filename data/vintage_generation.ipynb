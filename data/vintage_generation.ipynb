{
 "cells": [
  {
   "cell_type": "code",
   "execution_count": null,
   "metadata": {},
   "outputs": [],
   "source": [
    "# to do: fill NaN using the values from the last vintage date"
   ]
  },
  {
   "cell_type": "code",
   "execution_count": 5,
   "metadata": {},
   "outputs": [],
   "source": [
    "import pathlib, warnings\n",
    "import pandas as pd\n",
    "import numpy as np\n",
    "import datetime as datetime"
   ]
  },
  {
   "cell_type": "code",
   "execution_count": null,
   "metadata": {},
   "outputs": [],
   "source": [
    "df_descriptions = pd.read_csv('raw_variables_descriptions.csv')"
   ]
  },
  {
   "cell_type": "code",
   "execution_count": null,
   "metadata": {},
   "outputs": [],
   "source": [
    "data_path = pathlib.Path('raw_variables')\n",
    "assert data_path.exists()"
   ]
  },
  {
   "cell_type": "code",
   "execution_count": 67,
   "metadata": {},
   "outputs": [],
   "source": [
    "vintage_date = '2011-04-01' # until the end of day\n",
    "start_quarter = '1981Q1' # inclusive\n",
    "end_quarter = '2010Q2' # inclusive\n",
    "\n",
    "vintage_date = pd.to_datetime(vintage_date)\n",
    "start_observation = pd.to_datetime(start_quarter).to_period('Q').start_time\n",
    "end_observation = pd.to_datetime(end_quarter).to_period('Q').end_time\n",
    "\n",
    "if vintage_date < end_observation:\n",
    "    end_observation = vintage_date\n",
    "\n",
    "fillna_from_last_vintage = False\n",
    "variables = {\n",
    "    'raw_variables': ['DGS10'],\n",
    "    'observed_variables': [],\n",
    "}"
   ]
  },
  {
   "cell_type": "code",
   "execution_count": 68,
   "metadata": {},
   "outputs": [],
   "source": [
    "index = -1\n",
    "\n",
    "for data_file in set(data_path.glob('*.*')):\n",
    "\n",
    "    variable = data_file.stem\n",
    "    to_merge = False\n",
    "\n",
    "    if variable in variables['raw_variables']:\n",
    "\n",
    "        data_set = pd.read_csv(data_file, index_col=0)\n",
    "        data_set.index = pd.to_datetime(data_set.index)\n",
    "        frequency = df_descriptions[df_descriptions['id']==variable]['frequency_short'].values[0]\n",
    "\n",
    "        # choose data within observation period\n",
    "        observation_dates = data_set.index.map(lambda x: start_observation <= x <= end_observation)\n",
    "        if observation_dates.values.sum() == 0:\n",
    "            warnings.warn(f'\\n{variable} has no value within the observation period you choose for any vintage date!\\n')\n",
    "\n",
    "        # choose vintage date\n",
    "        vintage_column = ''\n",
    "        if frequency != 'D':\n",
    "            for column in data_set.columns.values:\n",
    "                if int(vintage_date.strftime('%Y%m%d')) >= int(column[-8:]):\n",
    "                    vintage_column = column\n",
    "                else:\n",
    "                    break\n",
    "            if vintage_column == '':\n",
    "                warnings.warn(f'\\nFor {variable}, the vintage date you choose is out of bound!\\n')\n",
    "        else:\n",
    "            vintage_column = data_set.columns.values[-1]\n",
    "\n",
    "        # leave only required data\n",
    "        # for daily and monthly data, take average over the quarter\n",
    "        if observation_dates.values.sum() > 0 and vintage_column != '':\n",
    "\n",
    "            data_set['quarter'] = data_set.index.to_period('Q').values\n",
    "            data_set = data_set[observation_dates][[vintage_column, 'quarter']].copy()\n",
    "\n",
    "            if np.sum(~np.isnan(data_set[vintage_column].values)) == 0:\n",
    "                warnings.warn(f'\\n{variable} has no value in the observation period and vintage date you choose.\\n')\n",
    "            else:\n",
    "                index += 1\n",
    "                to_merge = True\n",
    "                data_to_merge = data_set.groupby('quarter').mean()\n",
    "    \n",
    "    if to_merge == True:\n",
    "        if index == 0:\n",
    "            data_output = data_to_merge.copy()\n",
    "        else:\n",
    "            data_output = pd.merge(data_output, data_to_merge, how='outer', left_index=True, right_index=True, sort=True)"
   ]
  },
  {
   "cell_type": "code",
   "execution_count": 69,
   "metadata": {},
   "outputs": [],
   "source": [
    "data_output.to_csv(f\"data_{vintage_date.strftime('%Y%m%d')}.csv\")"
   ]
  },
  {
   "cell_type": "code",
   "execution_count": null,
   "metadata": {},
   "outputs": [],
   "source": []
  }
 ],
 "metadata": {
  "language_info": {
   "codemirror_mode": {
    "name": "ipython",
    "version": 3
   },
   "file_extension": ".py",
   "mimetype": "text/x-python",
   "name": "python",
   "nbconvert_exporter": "python",
   "pygments_lexer": "ipython3",
   "version": "3.7.7-final"
  },
  "orig_nbformat": 2,
  "kernelspec": {
   "name": "python37764bitba3d8e8fc21c4b4c8d5f629dcc40dfe0",
   "display_name": "Python 3.7.7 64-bit"
  }
 },
 "nbformat": 4,
 "nbformat_minor": 2
}