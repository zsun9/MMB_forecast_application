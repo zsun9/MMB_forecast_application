{
 "cells": [
  {
   "cell_type": "code",
   "execution_count": 9,
   "metadata": {},
   "outputs": [],
   "source": [
    "variables = [\n",
    "    #'GDPC1', 'GDPCTPI', 'PCEC', 'FPI', 'PRFI', 'PNFI', 'PCND', 'PCESV', 'PCDG', 'PCNDGC96', 'PCESVC96', 'PCDGCC96', 'COMPNFB', 'PRS85006023', 'BOGZ1FL144104005Q', 'HMLBSHNO', # quarterly\n",
    "    #'CE16OV', 'CNP16OV', 'AWHNONAG', 'UNRATE', 'CPIAUCSL', 'PCE', 'PCENDC96', 'PCEDG', 'PCEDGC96', 'PCES', 'PCESC96', # monthly\n",
    "    #'DFF', 'DBAA', 'DGS10', # daily\n",
    "    'DTB3' #'PCEC96', 'PNFIC1', 'PRFIC1', 'TB3MS', 'IPDNBS', 'PAYEMS', 'USCONS', 'AWHMAN', 'AWHAECON', 'CES2000000008', # Kailong, IN10\n",
    "    #'CPILFESL', 'EMRATIO', 'DNDGRD3Q086SBEA', 'DSERRG3Q086SBEA', 'DDURRG3Q086SBEA', 'CIVPART', 'GCEC1', 'COMPRNFB', #'JTSJOL', # Jisu, CET15\n",
    "    # 'NETEXP', 'CLF16OV','NETEXC','TOTLQ' # Ha Anh, A16\n",
    "    #'A007RD3Q086SBEA', 'A006RD3Q086SBEA', 'GPDIC1', 'GPDI', 'HOANBS', 'WILL5000IND', # Zexi, CMR14\n",
    "]\n",
    "api = '373b8581900f3b2c94da355762d31d7f',\n",
    "start_date = '1960-01-01',\n",
    "end_date = '2020-03-31',"
   ]
  },
  {
   "cell_type": "code",
   "execution_count": 10,
   "metadata": {},
   "outputs": [],
   "source": [
    "import requests, json, warnings, pathlib, time\n",
    "import pandas as pd\n",
    "from tqdm import notebook\n",
    "from datetime import datetime\n",
    "\n",
    "warnings.simplefilter('always')"
   ]
  },
  {
   "cell_type": "code",
   "execution_count": 11,
   "metadata": {},
   "outputs": [],
   "source": [
    "params = {\n",
    "    'api_key': api,\n",
    "    'file_type': 'json',\n",
    "    'observation_start': start_date, # date of interest\n",
    "    'realtime_start': start_date, # start of a period (publication date)\n",
    "    'realtime_end': end_date, # end of a period (one day before the next publication date)\n",
    "    }\n",
    "\n",
    "description_keys = [\n",
    "    'id', \n",
    "    'title', \n",
    "    'frequency', \n",
    "    'frequency_short', \n",
    "    'units',\n",
    "    'units_short',\n",
    "    'seasonal_adjustment',\n",
    "    'seasonal_adjustment_short',\n",
    "    'notes',\n",
    "    'observation_start',\n",
    "    'observation_end',\n",
    "]\n",
    "\n",
    "timeout = 2000"
   ]
  },
  {
   "cell_type": "code",
   "execution_count": 12,
   "metadata": {},
   "outputs": [],
   "source": [
    "def download_page(url, params):\n",
    "    '''Download page from ALFRED and check whether the download succeeds'''\n",
    "    page = requests.get(url, params=params, timeout=timeout)\n",
    "    if page.status_code == 429:\n",
    "        time.sleep(10)\n",
    "        page = requests.get(url, params=params, timeout=timeout)\n",
    "    assert page.status_code == 200, f\"No {params['series_id']} from {url}, {page.status_code} error\"\n",
    "    return page"
   ]
  },
  {
   "cell_type": "code",
   "execution_count": 13,
   "metadata": {},
   "outputs": [],
   "source": [
    "def float_or_nan(x):\n",
    "    '''Convert a string to either a float number or NaN'''\n",
    "    try:\n",
    "        return float(x)\n",
    "    except:\n",
    "        return float('nan')"
   ]
  },
  {
   "cell_type": "markdown",
   "metadata": {},
   "source": [
    "### Retrieve data descriptions"
   ]
  },
  {
   "cell_type": "code",
   "execution_count": 14,
   "metadata": {},
   "outputs": [],
   "source": [
    "descriptions = []\n",
    "\n",
    "for variable in variables:\n",
    "    \n",
    "    params.update({'series_id': variable})\n",
    "    description = dict()\n",
    "\n",
    "    # retrieve the basic description (if exists; if multiple descriptions, retreive the last only)\n",
    "    page = download_page(url='https://api.stlouisfed.org/fred/series', params=params)\n",
    "    page = page.json()['seriess'][-1]\n",
    "    description = {key: page.get(key, '') for key in description_keys}\n",
    "\n",
    "    # retreive the release (if exists)\n",
    "    page = download_page(url='https://api.stlouisfed.org/fred/series/release', params=params)\n",
    "    page = page.json()['releases'][-1]\n",
    "    release_id = page['id']\n",
    "    description['release'] = page.get('name', '')\n",
    "    description['release_url'] = page.get('link', '')\n",
    "    \n",
    "    # retreive the source (if exists)\n",
    "    params_source = params\n",
    "    page = requests.get(\n",
    "        url='https://api.stlouisfed.org/fred/release/sources', \n",
    "        params={'api_key': api, 'file_type': 'json', 'release_id': release_id,}\n",
    "        )\n",
    "    page = page.json()['sources'][-1]\n",
    "    description['source'] = page.get('name', '')\n",
    "    description['source_url'] = page.get('link', '')\n",
    "\n",
    "    # for variables updated in daily frequency, download the last vintage only\n",
    "    if description['frequency_short'] == 'D':\n",
    "        params.update({'realtime_start': end_date})\n",
    "    else:\n",
    "        params.update({'realtime_start': start_date})\n",
    "\n",
    "    # retreive the vintage dates (if available)\n",
    "    page = download_page(url='https://api.stlouisfed.org/fred/series/vintagedates', params=params)\n",
    "    vintage_dates = page.json()['vintage_dates']\n",
    "    description['numberof_vintage_dates'] = len(vintage_dates)\n",
    "    description['is_revised'] = len(vintage_dates) > 1\n",
    "    description['vintage_dates'] = vintage_dates\n",
    "    \n",
    "    descriptions.append(description)"
   ]
  },
  {
   "cell_type": "markdown",
   "metadata": {},
   "source": [
    "### Save data descriptions to disk"
   ]
  },
  {
   "cell_type": "code",
   "execution_count": 15,
   "metadata": {},
   "outputs": [],
   "source": [
    "# with open('raw_variables_descriptions.txt', 'w') as json_file:\n",
    "#     json.dump(descriptions, json_file, indent=4)\n",
    "\n",
    "try: \n",
    "\n",
    "    pd_descriptions_old = pd.read_csv('raw_variable_description.csv')\n",
    "    old_variable_set = pd_descriptions_old['id'].to_list()\n",
    "\n",
    "    pd_descriptions_new = pd.DataFrame(descriptions)\n",
    "    new_variable_set = pd_descriptions_new['id'].to_list()\n",
    "\n",
    "    # check whether new variables already exist\n",
    "    duplicated_variables = [variable for variable in new_variable_set if variable in old_variable_set]\n",
    "    if len(duplicated_variables) > 0:\n",
    "        warnings.warn('\\nWARNING: Some new raw variables already exist and their old information will be removed!\\n')\n",
    "\n",
    "    # drop duplicated variables\n",
    "    pd_descriptions_old.drop(\n",
    "        pd_descriptions_old.index[pd_descriptions_old['id'].map(lambda x: x in duplicated_variables)],\n",
    "        inplace = True\n",
    "        )\n",
    "\n",
    "    # concatenate and save to disk\n",
    "    pd_descriptions = pd.concat([pd_descriptions_old, pd_descriptions_new])\n",
    "    pd_descriptions.to_csv('raw_variable_description.csv', index=False)\n",
    "\n",
    "except:\n",
    "\n",
    "    pd.DataFrame(descriptions).to_csv('raw_variable_description.csv', index=False)"
   ]
  },
  {
   "cell_type": "markdown",
   "metadata": {},
   "source": [
    "### Download and re-organize raw data"
   ]
  },
  {
   "cell_type": "code",
   "execution_count": 16,
   "metadata": {},
   "outputs": [
    {
     "output_type": "display_data",
     "data": {
      "text/plain": "HBox(children=(FloatProgress(value=1.0, bar_style='info', max=1.0), HTML(value='')))",
      "application/vnd.jupyter.widget-view+json": {
       "version_major": 2,
       "version_minor": 0,
       "model_id": "281e8a676f4d444eb9ff81b59e150b44"
      }
     },
     "metadata": {}
    },
    {
     "output_type": "stream",
     "name": "stdout",
     "text": "\n"
    },
    {
     "output_type": "error",
     "ename": "FileNotFoundError",
     "evalue": "[Errno 2] No such file or directory: 'raw_variables/DTB3.csv'",
     "traceback": [
      "\u001b[1;31m---------------------------------------------------------------------------\u001b[0m",
      "\u001b[1;31mFileNotFoundError\u001b[0m                         Traceback (most recent call last)",
      "\u001b[1;32m<ipython-input-16-fdca542a9b7e>\u001b[0m in \u001b[0;36m<module>\u001b[1;34m\u001b[0m\n\u001b[0;32m     60\u001b[0m \u001b[1;33m\u001b[0m\u001b[0m\n\u001b[0;32m     61\u001b[0m     \u001b[0mdata_output\u001b[0m\u001b[1;33m.\u001b[0m\u001b[0mset_index\u001b[0m\u001b[1;33m(\u001b[0m\u001b[1;34m'observation_date'\u001b[0m\u001b[1;33m,\u001b[0m \u001b[0minplace\u001b[0m\u001b[1;33m=\u001b[0m\u001b[1;32mTrue\u001b[0m\u001b[1;33m)\u001b[0m\u001b[1;33m\u001b[0m\u001b[1;33m\u001b[0m\u001b[0m\n\u001b[1;32m---> 62\u001b[1;33m     \u001b[0mdata_output\u001b[0m\u001b[1;33m.\u001b[0m\u001b[0mto_csv\u001b[0m\u001b[1;33m(\u001b[0m\u001b[1;34mf'raw_variables/{variable}.csv'\u001b[0m\u001b[1;33m)\u001b[0m\u001b[1;33m\u001b[0m\u001b[1;33m\u001b[0m\u001b[0m\n\u001b[0m",
      "\u001b[1;32mC:\\Program Files\\Python37\\lib\\site-packages\\pandas\\core\\generic.py\u001b[0m in \u001b[0;36mto_csv\u001b[1;34m(self, path_or_buf, sep, na_rep, float_format, columns, header, index, index_label, mode, encoding, compression, quoting, quotechar, line_terminator, chunksize, date_format, doublequote, escapechar, decimal)\u001b[0m\n\u001b[0;32m   3202\u001b[0m             \u001b[0mdecimal\u001b[0m\u001b[1;33m=\u001b[0m\u001b[0mdecimal\u001b[0m\u001b[1;33m,\u001b[0m\u001b[1;33m\u001b[0m\u001b[1;33m\u001b[0m\u001b[0m\n\u001b[0;32m   3203\u001b[0m         )\n\u001b[1;32m-> 3204\u001b[1;33m         \u001b[0mformatter\u001b[0m\u001b[1;33m.\u001b[0m\u001b[0msave\u001b[0m\u001b[1;33m(\u001b[0m\u001b[1;33m)\u001b[0m\u001b[1;33m\u001b[0m\u001b[1;33m\u001b[0m\u001b[0m\n\u001b[0m\u001b[0;32m   3205\u001b[0m \u001b[1;33m\u001b[0m\u001b[0m\n\u001b[0;32m   3206\u001b[0m         \u001b[1;32mif\u001b[0m \u001b[0mpath_or_buf\u001b[0m \u001b[1;32mis\u001b[0m \u001b[1;32mNone\u001b[0m\u001b[1;33m:\u001b[0m\u001b[1;33m\u001b[0m\u001b[1;33m\u001b[0m\u001b[0m\n",
      "\u001b[1;32mC:\\Program Files\\Python37\\lib\\site-packages\\pandas\\io\\formats\\csvs.py\u001b[0m in \u001b[0;36msave\u001b[1;34m(self)\u001b[0m\n\u001b[0;32m    186\u001b[0m                 \u001b[0mself\u001b[0m\u001b[1;33m.\u001b[0m\u001b[0mmode\u001b[0m\u001b[1;33m,\u001b[0m\u001b[1;33m\u001b[0m\u001b[1;33m\u001b[0m\u001b[0m\n\u001b[0;32m    187\u001b[0m                 \u001b[0mencoding\u001b[0m\u001b[1;33m=\u001b[0m\u001b[0mself\u001b[0m\u001b[1;33m.\u001b[0m\u001b[0mencoding\u001b[0m\u001b[1;33m,\u001b[0m\u001b[1;33m\u001b[0m\u001b[1;33m\u001b[0m\u001b[0m\n\u001b[1;32m--> 188\u001b[1;33m                 \u001b[0mcompression\u001b[0m\u001b[1;33m=\u001b[0m\u001b[0mdict\u001b[0m\u001b[1;33m(\u001b[0m\u001b[0mself\u001b[0m\u001b[1;33m.\u001b[0m\u001b[0mcompression_args\u001b[0m\u001b[1;33m,\u001b[0m \u001b[0mmethod\u001b[0m\u001b[1;33m=\u001b[0m\u001b[0mself\u001b[0m\u001b[1;33m.\u001b[0m\u001b[0mcompression\u001b[0m\u001b[1;33m)\u001b[0m\u001b[1;33m,\u001b[0m\u001b[1;33m\u001b[0m\u001b[1;33m\u001b[0m\u001b[0m\n\u001b[0m\u001b[0;32m    189\u001b[0m             )\n\u001b[0;32m    190\u001b[0m             \u001b[0mclose\u001b[0m \u001b[1;33m=\u001b[0m \u001b[1;32mTrue\u001b[0m\u001b[1;33m\u001b[0m\u001b[1;33m\u001b[0m\u001b[0m\n",
      "\u001b[1;32mC:\\Program Files\\Python37\\lib\\site-packages\\pandas\\io\\common.py\u001b[0m in \u001b[0;36mget_handle\u001b[1;34m(path_or_buf, mode, encoding, compression, memory_map, is_text)\u001b[0m\n\u001b[0;32m    426\u001b[0m         \u001b[1;32mif\u001b[0m \u001b[0mencoding\u001b[0m\u001b[1;33m:\u001b[0m\u001b[1;33m\u001b[0m\u001b[1;33m\u001b[0m\u001b[0m\n\u001b[0;32m    427\u001b[0m             \u001b[1;31m# Encoding\u001b[0m\u001b[1;33m\u001b[0m\u001b[1;33m\u001b[0m\u001b[1;33m\u001b[0m\u001b[0m\n\u001b[1;32m--> 428\u001b[1;33m             \u001b[0mf\u001b[0m \u001b[1;33m=\u001b[0m \u001b[0mopen\u001b[0m\u001b[1;33m(\u001b[0m\u001b[0mpath_or_buf\u001b[0m\u001b[1;33m,\u001b[0m \u001b[0mmode\u001b[0m\u001b[1;33m,\u001b[0m \u001b[0mencoding\u001b[0m\u001b[1;33m=\u001b[0m\u001b[0mencoding\u001b[0m\u001b[1;33m,\u001b[0m \u001b[0mnewline\u001b[0m\u001b[1;33m=\u001b[0m\u001b[1;34m\"\"\u001b[0m\u001b[1;33m)\u001b[0m\u001b[1;33m\u001b[0m\u001b[1;33m\u001b[0m\u001b[0m\n\u001b[0m\u001b[0;32m    429\u001b[0m         \u001b[1;32melif\u001b[0m \u001b[0mis_text\u001b[0m\u001b[1;33m:\u001b[0m\u001b[1;33m\u001b[0m\u001b[1;33m\u001b[0m\u001b[0m\n\u001b[0;32m    430\u001b[0m             \u001b[1;31m# No explicit encoding\u001b[0m\u001b[1;33m\u001b[0m\u001b[1;33m\u001b[0m\u001b[1;33m\u001b[0m\u001b[0m\n",
      "\u001b[1;31mFileNotFoundError\u001b[0m: [Errno 2] No such file or directory: 'raw_variables/DTB3.csv'"
     ]
    }
   ],
   "source": [
    "for variable in variables:\n",
    "\n",
    "    # for variables updated in daily frequency, download the last vintage only\n",
    "    if pd_descriptions[pd_descriptions['id']==variable]['frequency_short'].values[0] == 'D':\n",
    "        params.update({'realtime_start': end_date})\n",
    "    else:\n",
    "        params.update({'realtime_start': start_date})\n",
    "\n",
    "    # download data from ALFRED\n",
    "    params.update({'series_id': variable})\n",
    "    page = download_page(url='https://api.stlouisfed.org/fred/series/observations', params=params)\n",
    "\n",
    "    # convert data type from JSON -> DataFrame\n",
    "    # convert values from string -> float, convert dates from string -> datetime\n",
    "    data = pd.DataFrame(page.json()['observations'])\n",
    "    data['value'] = data['value'].map(lambda x: float_or_nan(x))\n",
    "    for column in data.columns:\n",
    "        if column != 'value':\n",
    "            data[column] = pd.to_datetime(data[column])\n",
    "\n",
    "    # collect all vintage dates\n",
    "    vintage_dates = sorted(list(set(data['realtime_start'].to_list())))\n",
    "\n",
    "    # reshape data structure to ['observation_date', 'VarName_VintDate1', 'VarName_VintDate2', ...]\n",
    "    for index, (observation_date, group) in notebook.tqdm(enumerate(data.groupby('date'))):\n",
    "\n",
    "        if index == 0:\n",
    "\n",
    "            temp_values = {'observation_date': observation_date.strftime('%Y-%m-%d')}\n",
    "\n",
    "            for vintage_date in vintage_dates:\n",
    "                found_value = False\n",
    "                for _, row in group.drop('date', axis=1).iterrows():\n",
    "                    if row['realtime_start'] <= vintage_date <= row['realtime_end']:\n",
    "                        temp_values[f\"{variable}_{vintage_date.strftime('%Y%m%d')}\"] = row['value']\n",
    "                        found_value = True\n",
    "                        break\n",
    "                if found_value == False:\n",
    "                    temp_values[f\"{variable}_{vintage_date.strftime('%Y%m%d')}\"] = float('nan')\n",
    "            assert len(temp_values) == len(vintage_dates) + 1\n",
    "\n",
    "            data_output = pd.DataFrame(temp_values, index=[0])\n",
    "\n",
    "        else:\n",
    "\n",
    "            temp_values = [observation_date.strftime('%Y-%m-%d')]\n",
    "\n",
    "            for vintage_date in vintage_dates:\n",
    "                found_value = False\n",
    "                for _, row in group.drop('date', axis=1).iterrows():\n",
    "                    if row['realtime_start'] <= vintage_date <= row['realtime_end']:\n",
    "                        temp_values.append(row['value'])\n",
    "                        found_value = True\n",
    "                        break\n",
    "                if found_value == False:\n",
    "                    temp_values.append(float('nan'))\n",
    "            assert len(temp_values) == len(vintage_dates) + 1\n",
    "\n",
    "            data_output.loc[data_output.shape[0]] = temp_values\n",
    "\n",
    "    data_output.set_index('observation_date', inplace=True)\n",
    "    data_output.to_csv(f'raw_variables/{variable}.csv')"
   ]
  },
  {
   "cell_type": "code",
   "execution_count": null,
   "metadata": {},
   "outputs": [],
   "source": []
  }
 ],
 "metadata": {
  "language_info": {
   "codemirror_mode": {
    "name": "ipython",
    "version": 3
   },
   "file_extension": ".py",
   "mimetype": "text/x-python",
   "name": "python",
   "nbconvert_exporter": "python",
   "pygments_lexer": "ipython3",
   "version": "3.7.7-final"
  },
  "orig_nbformat": 2,
  "kernelspec": {
   "name": "python37764bitba3d8e8fc21c4b4c8d5f629dcc40dfe0",
   "display_name": "Python 3.7.7 64-bit"
  }
 },
 "nbformat": 4,
 "nbformat_minor": 2
}