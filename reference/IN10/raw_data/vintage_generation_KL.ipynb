{
 "cells": [
  {
   "cell_type": "code",
   "execution_count": null,
   "metadata": {},
   "outputs": [],
   "source": [
    "# to do: fill NaN using the values from the last vintage date"
   ]
  },
  {
   "cell_type": "code",
   "execution_count": 1,
   "metadata": {},
   "outputs": [],
   "source": [
    "import pathlib, warnings\n",
    "import pandas as pd\n",
    "import numpy as np\n",
    "import datetime as datetime"
   ]
  },
  {
   "cell_type": "code",
   "execution_count": 9,
   "metadata": {},
   "outputs": [],
   "source": [
    "data_path = pathlib.Path('raw_variables')\n",
    "assert data_path.exists()"
   ]
  },
  {
   "cell_type": "code",
   "execution_count": 50,
   "metadata": {},
   "outputs": [],
   "source": [
    "vintage_date = '2011-04-01' # until the end of day\n",
    "start_quarter = '1981Q1' # inclusive\n",
    "end_quarter = '2010Q2' # inclusive\n",
    "\n",
    "vintage_date = pd.to_datetime(vintage_date)\n",
    "start_observation = pd.to_datetime(start_quarter).to_period('Q').start_time\n",
    "end_observation = pd.to_datetime(end_quarter).to_period('Q').end_time\n",
    "\n",
    "if vintage_date < end_observation:\n",
    "    warnings.warn('Your vintage date is older than the last observation date, so the last observation date will be the vintage date.')\n",
    "    end_observation = vintage_date\n",
    "\n",
    "fillna_from_last_vintage = False\n",
    "variables = {\n",
    "    'raw_variables': set([]),\n",
    "    'raw_variables_transform': set([]),\n",
    "    'observed_variables': set(['xgdp_obs', 'pgdp_obs', 'ffr_obs', 'fpi_obs', 'pce_obs', 'wage_obs']),\n",
    "}"
   ]
  },
  {
   "cell_type": "code",
   "execution_count": null,
   "metadata": {},
   "outputs": [],
   "source": [
    "description_obs = pd.read_excel('observed_variable_description.xlsx')\n",
    "description_raw = pd.read_csv('raw_variable_description.csv')"
   ]
  },
  {
   "cell_type": "markdown",
   "metadata": {},
   "source": [
    "### generate observables"
   ]
  },
  {
   "cell_type": "code",
   "execution_count": 51,
   "metadata": {},
   "outputs": [],
   "source": [
    "if len(variables['observed_variables']) > 0:\n",
    "\n",
    "    # identify corresponding raw variables and store their names in 'raw_variables_tranform'\n",
    "    set_raw_variables = {data_file.stem for data_file in data_path.glob('*.*')}\n",
    "    description_obs = description_obs[description_obs['id'].map(lambda x: x in variables['observed_variables'])]\n",
    "    \n",
    "    idenfity_string = ' '.join(description_observed_variable['construction'].values)\n",
    "    for variable in set_raw_variables:\n",
    "        if variable in idenfity_string:\n",
    "            variables['raw_variables_transform'].update({variable})"
   ]
  },
  {
   "cell_type": "code",
   "execution_count": 57,
   "metadata": {},
   "outputs": [],
   "source": [
    "def generate_raw_variables(variables):\n",
    "\n",
    "    index = -1\n",
    "\n",
    "    for variable in variables:\n",
    "\n",
    "        to_merge = False\n",
    "\n",
    "        for data_file in set(data_path.glob('*.*')):\n",
    "\n",
    "            if data_file.stem == variable:\n",
    "\n",
    "                # load dataset\n",
    "                data_set = pd.read_csv(data_file, index_col=0)\n",
    "                data_set.index = pd.to_datetime(data_set.index)\n",
    "\n",
    "                # load frequency of the variable\n",
    "                frequency = description_raw[description_raw['id']==variable]['frequency_short'].values[0]\n",
    "\n",
    "                # choose data within observation period\n",
    "                observation_dates = data_set.index.map(lambda x: start_observation <= x <= end_observation)\n",
    "\n",
    "                if len(observation_dates.values) == 0:\n",
    "                    warnings.warn(f'\\n{variable} has no value within the observation period you choose for any vintage date!\\n')\n",
    "                    break\n",
    "\n",
    "                # choose data within vintage date\n",
    "                vintage_column = ''\n",
    "\n",
    "                if frequency == 'D':\n",
    "                    vintage_column = data_set.columns.values[-1]\n",
    "                else:\n",
    "                    for column in data_set.columns.values:\n",
    "                        if int(vintage_date.strftime('%Y%m%d')) >= int(column[-8:]):\n",
    "                            vintage_column = column\n",
    "                        else:\n",
    "                            break\n",
    "\n",
    "                if vintage_column == '':\n",
    "                    warnings.warn(f'\\nFor {variable}, the vintage date you choose is out of bound!\\n')\n",
    "                    break\n",
    "\n",
    "                # combine desired observation period and vintage date\n",
    "                # for daily and monthly data, take the average over the quarter\n",
    "                if len(observation_dates.values) > 0 and vintage_column != '':\n",
    "\n",
    "                    data_set['quarter'] = data_set.index.to_period('Q').values\n",
    "                    data_set = data_set[observation_dates][[vintage_column, 'quarter']].copy()\n",
    "\n",
    "                    if np.sum(~np.isnan(data_set[vintage_column].values)) == 0:\n",
    "                        warnings.warn(f'\\n{variable} has no value in the observation period and vintage date you choose.\\n')\n",
    "                        break\n",
    "                    else:\n",
    "                        index += 1\n",
    "                        to_merge = True\n",
    "                        data_to_merge = data_set.groupby('quarter').mean()\n",
    "\n",
    "                break\n",
    "\n",
    "        if to_merge == True:\n",
    "\n",
    "            if index == 0:\n",
    "                data_output = data_to_merge.copy()\n",
    "            else:\n",
    "                data_output = pd.merge(data_output, data_to_merge, how='outer', left_index=True, right_index=True, sort=True)\n",
    "\n",
    "    return data_output"
   ]
  },
  {
   "cell_type": "code",
   "execution_count": 58,
   "metadata": {},
   "outputs": [],
   "source": [
    "output = generate_raw_variables(variables['raw_variables_transform'])"
   ]
  },
  {
   "cell_type": "code",
   "execution_count": 60,
   "metadata": {},
   "outputs": [
    {
     "name": "stdout",
     "output_type": "stream",
     "text": [
      "{1}\n"
     ]
    }
   ],
   "source": [
    "if 'xgdp_obs' in variables['observed_variables']:\n",
    "    "
   ]
  },
  {
   "cell_type": "code",
   "execution_count": null,
   "metadata": {},
   "outputs": [],
   "source": [
    "output.loc[:, 'xgdp_obs'] = output['GDPC1_20110325'].values"
   ]
  },
  {
   "cell_type": "code",
   "execution_count": 62,
   "metadata": {},
   "outputs": [
    {
     "data": {
      "text/plain": [
       "array([            nan, -8.00773285e-01,  1.20788923e+00, -1.25321824e+00,\n",
       "       -1.65592487e+00,  5.41443807e-01, -3.86202683e-01,  7.83819285e-02,\n",
       "        1.23573303e+00,  2.22275738e+00,  1.95361037e+00,  2.04589068e+00,\n",
       "        1.92116384e+00,  1.71130953e+00,  9.66410968e-01,  8.11997905e-01,\n",
       "        9.39072010e-01,  8.42104019e-01,  1.55030549e+00,  7.56169094e-01,\n",
       "        9.57177860e-01,  4.00745182e-01,  9.59781538e-01,  4.82050203e-01,\n",
       "        5.52056273e-01,  1.05791825e+00,  8.64264630e-01,  1.69571221e+00,\n",
       "        5.16230267e-01,  1.27640157e+00,  5.14943667e-01,  1.32631564e+00,\n",
       "        9.34333657e-01,  7.45300675e-01,  7.90257652e-01,  2.17992664e-01,\n",
       "        1.03930213e+00,  3.96586647e-01, -1.24076406e-03, -8.79844164e-01,\n",
       "       -4.85599263e-01,  6.71934332e-01,  4.20166066e-01,  3.91146930e-01,\n",
       "        1.09204492e+00,  1.05720444e+00,  1.02693723e+00,  1.04620455e+00,\n",
       "        1.83981772e-01,  6.37159418e-01,  5.25342768e-01,  1.31239911e+00,\n",
       "        9.68249015e-01,  1.35875366e+00,  6.42197840e-01,  1.10457636e+00,\n",
       "        2.45167497e-01,  2.14720614e-01,  8.36760473e-01,  6.94894902e-01,\n",
       "        6.82529845e-01,  1.71439203e+00,  8.65797110e-01,  1.08588487e+00,\n",
       "        7.65372115e-01,  1.47262337e+00,  1.24708464e+00,  7.64235276e-01,\n",
       "        9.39730368e-01,  8.95673970e-01,  1.31073693e+00,  1.71626950e+00,\n",
       "        8.86839739e-01,  7.78009299e-01,  1.26397360e+00,  1.78073973e+00,\n",
       "        2.60231454e-01,  1.93266559e+00,  8.34576368e-02,  5.89319654e-01,\n",
       "       -3.29626442e-01,  6.53772980e-01, -2.74752060e-01,  3.52109940e-01,\n",
       "        8.55723132e-01,  5.29182221e-01,  4.97943558e-01,  2.06939368e-02,\n",
       "        4.04395550e-01,  7.94547574e-01,  1.66260768e+00,  8.94981848e-01,\n",
       "        7.01687584e-01,  7.08261319e-01,  7.31731473e-01,  8.64299823e-01,\n",
       "        9.92615709e-01,  4.25132797e-01,  7.57402506e-01,  5.15102252e-01,\n",
       "        1.30298049e+00,  3.60146302e-01,  2.62260689e-02,  7.28488694e-01,\n",
       "        2.18738137e-01,  7.97465742e-01,  5.62304505e-01,  7.13430482e-01,\n",
       "       -1.82004117e-01,  1.48324633e-01, -1.01947652e+00, -1.75309251e+00,\n",
       "       -1.24758165e+00, -1.76269223e-01,  3.95780936e-01,  1.22259036e+00,\n",
       "        9.15985577e-01,  4.26070661e-01])"
      ]
     },
     "execution_count": 62,
     "metadata": {},
     "output_type": "execute_result"
    }
   ],
   "source": [
    "np.log(output['GDPC1_20110325'].values/output['GDPC1_20110325'].shift().values)*100"
   ]
  },
  {
   "cell_type": "code",
   "execution_count": 69,
   "metadata": {},
   "outputs": [],
   "source": [
    "data_output.to_csv(f\"data_{vintage_date.strftime('%Y%m%d')}.csv\")"
   ]
  },
  {
   "cell_type": "code",
   "execution_count": null,
   "metadata": {},
   "outputs": [],
   "source": []
  }
 ],
 "metadata": {
  "kernelspec": {
   "display_name": "Python 3",
   "language": "python",
   "name": "python3"
  },
  "language_info": {
   "codemirror_mode": {
    "name": "ipython",
    "version": 3
   },
   "file_extension": ".py",
   "mimetype": "text/x-python",
   "name": "python",
   "nbconvert_exporter": "python",
   "pygments_lexer": "ipython3",
   "version": "3.7.6"
  }
 },
 "nbformat": 4,
 "nbformat_minor": 4
}
